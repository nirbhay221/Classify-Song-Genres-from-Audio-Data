{
  "nbformat": 4,
  "nbformat_minor": 0,
  "metadata": {
    "colab": {
      "name": "Untitled55.ipynb",
      "provenance": [],
      "collapsed_sections": []
    },
    "kernelspec": {
      "name": "python3",
      "display_name": "Python 3"
    }
  },
  "cells": [
    {
      "cell_type": "code",
      "metadata": {
        "id": "Ol9zRS_L2_n_"
      },
      "source": [
        "import numpy as np \n",
        "import pandas as pd \n",
        "import sklearn \n",
        "import matplotlib.pyplot as plt\n",
        "from sklearn import preprocessing\n",
        "from sklearn.metrics import accuracy_score,f1_score,classification_report,log_loss\n",
        "from sklearn.model_selection import train_test_split,cross_val_score\n",
        "from sklearn.linear_model import LogisticRegression\n",
        "from sklearn.tree import DecisionTreeClassifier\n",
        "from sklearn.decomposition import PCA\n"
      ],
      "execution_count": null,
      "outputs": []
    },
    {
      "cell_type": "code",
      "metadata": {
        "id": "-1h1nkpngjUj"
      },
      "source": [
        "df1 = pd.read_csv('fma-rock-vs-hiphop.csv')\n",
        "df2 = pd.read_json('echonest-metrics.json')"
      ],
      "execution_count": null,
      "outputs": []
    },
    {
      "cell_type": "code",
      "metadata": {
        "id": "Dmm-xu-OhAev",
        "outputId": "78df7965-e320-40c2-ef48-03ee8de223a7",
        "colab": {
          "base_uri": "https://localhost:8080/",
          "height": 479
        }
      },
      "source": [
        "df1.head()\n"
      ],
      "execution_count": null,
      "outputs": [
        {
          "output_type": "execute_result",
          "data": {
            "text/html": [
              "<div>\n",
              "<style scoped>\n",
              "    .dataframe tbody tr th:only-of-type {\n",
              "        vertical-align: middle;\n",
              "    }\n",
              "\n",
              "    .dataframe tbody tr th {\n",
              "        vertical-align: top;\n",
              "    }\n",
              "\n",
              "    .dataframe thead th {\n",
              "        text-align: right;\n",
              "    }\n",
              "</style>\n",
              "<table border=\"1\" class=\"dataframe\">\n",
              "  <thead>\n",
              "    <tr style=\"text-align: right;\">\n",
              "      <th></th>\n",
              "      <th>track_id</th>\n",
              "      <th>bit_rate</th>\n",
              "      <th>comments</th>\n",
              "      <th>composer</th>\n",
              "      <th>date_created</th>\n",
              "      <th>date_recorded</th>\n",
              "      <th>duration</th>\n",
              "      <th>favorites</th>\n",
              "      <th>genre_top</th>\n",
              "      <th>genres</th>\n",
              "      <th>genres_all</th>\n",
              "      <th>information</th>\n",
              "      <th>interest</th>\n",
              "      <th>language_code</th>\n",
              "      <th>license</th>\n",
              "      <th>listens</th>\n",
              "      <th>lyricist</th>\n",
              "      <th>number</th>\n",
              "      <th>publisher</th>\n",
              "      <th>tags</th>\n",
              "      <th>title</th>\n",
              "    </tr>\n",
              "  </thead>\n",
              "  <tbody>\n",
              "    <tr>\n",
              "      <th>0</th>\n",
              "      <td>135</td>\n",
              "      <td>256000</td>\n",
              "      <td>1</td>\n",
              "      <td>NaN</td>\n",
              "      <td>2008-11-26 01:43:26</td>\n",
              "      <td>2008-11-26 00:00:00</td>\n",
              "      <td>837</td>\n",
              "      <td>0</td>\n",
              "      <td>Rock</td>\n",
              "      <td>[45, 58]</td>\n",
              "      <td>[58, 12, 45]</td>\n",
              "      <td>NaN</td>\n",
              "      <td>2484</td>\n",
              "      <td>en</td>\n",
              "      <td>Attribution-NonCommercial-ShareAlike 3.0 Inter...</td>\n",
              "      <td>1832</td>\n",
              "      <td>NaN</td>\n",
              "      <td>0</td>\n",
              "      <td>NaN</td>\n",
              "      <td>[]</td>\n",
              "      <td>Father's Day</td>\n",
              "    </tr>\n",
              "    <tr>\n",
              "      <th>1</th>\n",
              "      <td>136</td>\n",
              "      <td>256000</td>\n",
              "      <td>1</td>\n",
              "      <td>NaN</td>\n",
              "      <td>2008-11-26 01:43:35</td>\n",
              "      <td>2008-11-26 00:00:00</td>\n",
              "      <td>509</td>\n",
              "      <td>0</td>\n",
              "      <td>Rock</td>\n",
              "      <td>[45, 58]</td>\n",
              "      <td>[58, 12, 45]</td>\n",
              "      <td>NaN</td>\n",
              "      <td>1948</td>\n",
              "      <td>en</td>\n",
              "      <td>Attribution-NonCommercial-ShareAlike 3.0 Inter...</td>\n",
              "      <td>1498</td>\n",
              "      <td>NaN</td>\n",
              "      <td>0</td>\n",
              "      <td>NaN</td>\n",
              "      <td>[]</td>\n",
              "      <td>Peel Back The Mountain Sky</td>\n",
              "    </tr>\n",
              "    <tr>\n",
              "      <th>2</th>\n",
              "      <td>151</td>\n",
              "      <td>192000</td>\n",
              "      <td>0</td>\n",
              "      <td>NaN</td>\n",
              "      <td>2008-11-26 01:44:55</td>\n",
              "      <td>NaN</td>\n",
              "      <td>192</td>\n",
              "      <td>0</td>\n",
              "      <td>Rock</td>\n",
              "      <td>[25]</td>\n",
              "      <td>[25, 12]</td>\n",
              "      <td>NaN</td>\n",
              "      <td>701</td>\n",
              "      <td>en</td>\n",
              "      <td>Attribution-NonCommercial-ShareAlike 3.0 Inter...</td>\n",
              "      <td>148</td>\n",
              "      <td>NaN</td>\n",
              "      <td>4</td>\n",
              "      <td>NaN</td>\n",
              "      <td>[]</td>\n",
              "      <td>Untitled 04</td>\n",
              "    </tr>\n",
              "    <tr>\n",
              "      <th>3</th>\n",
              "      <td>152</td>\n",
              "      <td>192000</td>\n",
              "      <td>0</td>\n",
              "      <td>NaN</td>\n",
              "      <td>2008-11-26 01:44:58</td>\n",
              "      <td>NaN</td>\n",
              "      <td>193</td>\n",
              "      <td>0</td>\n",
              "      <td>Rock</td>\n",
              "      <td>[25]</td>\n",
              "      <td>[25, 12]</td>\n",
              "      <td>NaN</td>\n",
              "      <td>637</td>\n",
              "      <td>en</td>\n",
              "      <td>Attribution-NonCommercial-ShareAlike 3.0 Inter...</td>\n",
              "      <td>98</td>\n",
              "      <td>NaN</td>\n",
              "      <td>11</td>\n",
              "      <td>NaN</td>\n",
              "      <td>[]</td>\n",
              "      <td>Untitled 11</td>\n",
              "    </tr>\n",
              "    <tr>\n",
              "      <th>4</th>\n",
              "      <td>153</td>\n",
              "      <td>256000</td>\n",
              "      <td>0</td>\n",
              "      <td>Arc and Sender</td>\n",
              "      <td>2008-11-26 01:45:00</td>\n",
              "      <td>2008-11-26 00:00:00</td>\n",
              "      <td>405</td>\n",
              "      <td>5</td>\n",
              "      <td>Rock</td>\n",
              "      <td>[26]</td>\n",
              "      <td>[26, 12]</td>\n",
              "      <td>NaN</td>\n",
              "      <td>354</td>\n",
              "      <td>en</td>\n",
              "      <td>Attribution-NonCommercial-NoDerivatives (aka M...</td>\n",
              "      <td>424</td>\n",
              "      <td>NaN</td>\n",
              "      <td>2</td>\n",
              "      <td>NaN</td>\n",
              "      <td>[]</td>\n",
              "      <td>Hundred-Year Flood</td>\n",
              "    </tr>\n",
              "  </tbody>\n",
              "</table>\n",
              "</div>"
            ],
            "text/plain": [
              "   track_id  bit_rate  comments  ... publisher tags                       title\n",
              "0       135    256000         1  ...       NaN   []                Father's Day\n",
              "1       136    256000         1  ...       NaN   []  Peel Back The Mountain Sky\n",
              "2       151    192000         0  ...       NaN   []                 Untitled 04\n",
              "3       152    192000         0  ...       NaN   []                 Untitled 11\n",
              "4       153    256000         0  ...       NaN   []          Hundred-Year Flood\n",
              "\n",
              "[5 rows x 21 columns]"
            ]
          },
          "metadata": {
            "tags": []
          },
          "execution_count": 26
        }
      ]
    },
    {
      "cell_type": "code",
      "metadata": {
        "id": "kqT6Et3zhDTv",
        "outputId": "c9926c92-64ca-4ed3-f4d9-1990f35f89bb",
        "colab": {
          "base_uri": "https://localhost:8080/",
          "height": 204
        }
      },
      "source": [
        "df2.head()"
      ],
      "execution_count": null,
      "outputs": [
        {
          "output_type": "execute_result",
          "data": {
            "text/html": [
              "<div>\n",
              "<style scoped>\n",
              "    .dataframe tbody tr th:only-of-type {\n",
              "        vertical-align: middle;\n",
              "    }\n",
              "\n",
              "    .dataframe tbody tr th {\n",
              "        vertical-align: top;\n",
              "    }\n",
              "\n",
              "    .dataframe thead th {\n",
              "        text-align: right;\n",
              "    }\n",
              "</style>\n",
              "<table border=\"1\" class=\"dataframe\">\n",
              "  <thead>\n",
              "    <tr style=\"text-align: right;\">\n",
              "      <th></th>\n",
              "      <th>track_id</th>\n",
              "      <th>acousticness</th>\n",
              "      <th>danceability</th>\n",
              "      <th>energy</th>\n",
              "      <th>instrumentalness</th>\n",
              "      <th>liveness</th>\n",
              "      <th>speechiness</th>\n",
              "      <th>tempo</th>\n",
              "      <th>valence</th>\n",
              "    </tr>\n",
              "  </thead>\n",
              "  <tbody>\n",
              "    <tr>\n",
              "      <th>0</th>\n",
              "      <td>2</td>\n",
              "      <td>0.416675</td>\n",
              "      <td>0.675894</td>\n",
              "      <td>0.634476</td>\n",
              "      <td>0.010628</td>\n",
              "      <td>0.177647</td>\n",
              "      <td>0.159310</td>\n",
              "      <td>165.922</td>\n",
              "      <td>0.576661</td>\n",
              "    </tr>\n",
              "    <tr>\n",
              "      <th>1</th>\n",
              "      <td>3</td>\n",
              "      <td>0.374408</td>\n",
              "      <td>0.528643</td>\n",
              "      <td>0.817461</td>\n",
              "      <td>0.001851</td>\n",
              "      <td>0.105880</td>\n",
              "      <td>0.461818</td>\n",
              "      <td>126.957</td>\n",
              "      <td>0.269240</td>\n",
              "    </tr>\n",
              "    <tr>\n",
              "      <th>2</th>\n",
              "      <td>5</td>\n",
              "      <td>0.043567</td>\n",
              "      <td>0.745566</td>\n",
              "      <td>0.701470</td>\n",
              "      <td>0.000697</td>\n",
              "      <td>0.373143</td>\n",
              "      <td>0.124595</td>\n",
              "      <td>100.260</td>\n",
              "      <td>0.621661</td>\n",
              "    </tr>\n",
              "    <tr>\n",
              "      <th>3</th>\n",
              "      <td>10</td>\n",
              "      <td>0.951670</td>\n",
              "      <td>0.658179</td>\n",
              "      <td>0.924525</td>\n",
              "      <td>0.965427</td>\n",
              "      <td>0.115474</td>\n",
              "      <td>0.032985</td>\n",
              "      <td>111.562</td>\n",
              "      <td>0.963590</td>\n",
              "    </tr>\n",
              "    <tr>\n",
              "      <th>4</th>\n",
              "      <td>134</td>\n",
              "      <td>0.452217</td>\n",
              "      <td>0.513238</td>\n",
              "      <td>0.560410</td>\n",
              "      <td>0.019443</td>\n",
              "      <td>0.096567</td>\n",
              "      <td>0.525519</td>\n",
              "      <td>114.290</td>\n",
              "      <td>0.894072</td>\n",
              "    </tr>\n",
              "  </tbody>\n",
              "</table>\n",
              "</div>"
            ],
            "text/plain": [
              "   track_id  acousticness  danceability  ...  speechiness    tempo   valence\n",
              "0         2      0.416675      0.675894  ...     0.159310  165.922  0.576661\n",
              "1         3      0.374408      0.528643  ...     0.461818  126.957  0.269240\n",
              "2         5      0.043567      0.745566  ...     0.124595  100.260  0.621661\n",
              "3        10      0.951670      0.658179  ...     0.032985  111.562  0.963590\n",
              "4       134      0.452217      0.513238  ...     0.525519  114.290  0.894072\n",
              "\n",
              "[5 rows x 9 columns]"
            ]
          },
          "metadata": {
            "tags": []
          },
          "execution_count": 27
        }
      ]
    },
    {
      "cell_type": "code",
      "metadata": {
        "id": "KO6rfqx-hFi8",
        "outputId": "decff3ab-ba41-4f4b-aabb-6130dc294513",
        "colab": {
          "base_uri": "https://localhost:8080/",
          "height": 204
        }
      },
      "source": [
        "df3 = df2.merge(df1[['genre_top','track_id']],on='track_id')\n",
        "df3.head()\n"
      ],
      "execution_count": null,
      "outputs": [
        {
          "output_type": "execute_result",
          "data": {
            "text/html": [
              "<div>\n",
              "<style scoped>\n",
              "    .dataframe tbody tr th:only-of-type {\n",
              "        vertical-align: middle;\n",
              "    }\n",
              "\n",
              "    .dataframe tbody tr th {\n",
              "        vertical-align: top;\n",
              "    }\n",
              "\n",
              "    .dataframe thead th {\n",
              "        text-align: right;\n",
              "    }\n",
              "</style>\n",
              "<table border=\"1\" class=\"dataframe\">\n",
              "  <thead>\n",
              "    <tr style=\"text-align: right;\">\n",
              "      <th></th>\n",
              "      <th>track_id</th>\n",
              "      <th>acousticness</th>\n",
              "      <th>danceability</th>\n",
              "      <th>energy</th>\n",
              "      <th>instrumentalness</th>\n",
              "      <th>liveness</th>\n",
              "      <th>speechiness</th>\n",
              "      <th>tempo</th>\n",
              "      <th>valence</th>\n",
              "      <th>genre_top</th>\n",
              "    </tr>\n",
              "  </thead>\n",
              "  <tbody>\n",
              "    <tr>\n",
              "      <th>0</th>\n",
              "      <td>2</td>\n",
              "      <td>0.416675</td>\n",
              "      <td>0.675894</td>\n",
              "      <td>0.634476</td>\n",
              "      <td>0.010628</td>\n",
              "      <td>0.177647</td>\n",
              "      <td>0.159310</td>\n",
              "      <td>165.922</td>\n",
              "      <td>0.576661</td>\n",
              "      <td>Hip-Hop</td>\n",
              "    </tr>\n",
              "    <tr>\n",
              "      <th>1</th>\n",
              "      <td>3</td>\n",
              "      <td>0.374408</td>\n",
              "      <td>0.528643</td>\n",
              "      <td>0.817461</td>\n",
              "      <td>0.001851</td>\n",
              "      <td>0.105880</td>\n",
              "      <td>0.461818</td>\n",
              "      <td>126.957</td>\n",
              "      <td>0.269240</td>\n",
              "      <td>Hip-Hop</td>\n",
              "    </tr>\n",
              "    <tr>\n",
              "      <th>2</th>\n",
              "      <td>5</td>\n",
              "      <td>0.043567</td>\n",
              "      <td>0.745566</td>\n",
              "      <td>0.701470</td>\n",
              "      <td>0.000697</td>\n",
              "      <td>0.373143</td>\n",
              "      <td>0.124595</td>\n",
              "      <td>100.260</td>\n",
              "      <td>0.621661</td>\n",
              "      <td>Hip-Hop</td>\n",
              "    </tr>\n",
              "    <tr>\n",
              "      <th>3</th>\n",
              "      <td>134</td>\n",
              "      <td>0.452217</td>\n",
              "      <td>0.513238</td>\n",
              "      <td>0.560410</td>\n",
              "      <td>0.019443</td>\n",
              "      <td>0.096567</td>\n",
              "      <td>0.525519</td>\n",
              "      <td>114.290</td>\n",
              "      <td>0.894072</td>\n",
              "      <td>Hip-Hop</td>\n",
              "    </tr>\n",
              "    <tr>\n",
              "      <th>4</th>\n",
              "      <td>153</td>\n",
              "      <td>0.988306</td>\n",
              "      <td>0.255661</td>\n",
              "      <td>0.979774</td>\n",
              "      <td>0.973006</td>\n",
              "      <td>0.121342</td>\n",
              "      <td>0.051740</td>\n",
              "      <td>90.241</td>\n",
              "      <td>0.034018</td>\n",
              "      <td>Rock</td>\n",
              "    </tr>\n",
              "  </tbody>\n",
              "</table>\n",
              "</div>"
            ],
            "text/plain": [
              "   track_id  acousticness  danceability  ...    tempo   valence  genre_top\n",
              "0         2      0.416675      0.675894  ...  165.922  0.576661    Hip-Hop\n",
              "1         3      0.374408      0.528643  ...  126.957  0.269240    Hip-Hop\n",
              "2         5      0.043567      0.745566  ...  100.260  0.621661    Hip-Hop\n",
              "3       134      0.452217      0.513238  ...  114.290  0.894072    Hip-Hop\n",
              "4       153      0.988306      0.255661  ...   90.241  0.034018       Rock\n",
              "\n",
              "[5 rows x 10 columns]"
            ]
          },
          "metadata": {
            "tags": []
          },
          "execution_count": 28
        }
      ]
    },
    {
      "cell_type": "code",
      "metadata": {
        "id": "5PT0AMinhqyl",
        "outputId": "89e753e9-783a-4b2c-8c9d-771fde64065e",
        "colab": {
          "base_uri": "https://localhost:8080/",
          "height": 229
        }
      },
      "source": [
        "correlation_matrix = df3.corr()\n",
        "correlation_matrix.style.background_gradient()"
      ],
      "execution_count": null,
      "outputs": [
        {
          "output_type": "execute_result",
          "data": {
            "text/html": [
              "<style  type=\"text/css\" >\n",
              "#T_3545ef00_0a35_11eb_92bd_0242ac1c0002row0_col0,#T_3545ef00_0a35_11eb_92bd_0242ac1c0002row1_col1,#T_3545ef00_0a35_11eb_92bd_0242ac1c0002row2_col2,#T_3545ef00_0a35_11eb_92bd_0242ac1c0002row3_col3,#T_3545ef00_0a35_11eb_92bd_0242ac1c0002row4_col4,#T_3545ef00_0a35_11eb_92bd_0242ac1c0002row5_col5,#T_3545ef00_0a35_11eb_92bd_0242ac1c0002row6_col6,#T_3545ef00_0a35_11eb_92bd_0242ac1c0002row7_col7,#T_3545ef00_0a35_11eb_92bd_0242ac1c0002row8_col8{\n",
              "            background-color:  #023858;\n",
              "            color:  #f1f1f1;\n",
              "        }#T_3545ef00_0a35_11eb_92bd_0242ac1c0002row0_col1,#T_3545ef00_0a35_11eb_92bd_0242ac1c0002row1_col0,#T_3545ef00_0a35_11eb_92bd_0242ac1c0002row1_col3,#T_3545ef00_0a35_11eb_92bd_0242ac1c0002row2_col5,#T_3545ef00_0a35_11eb_92bd_0242ac1c0002row2_col7,#T_3545ef00_0a35_11eb_92bd_0242ac1c0002row4_col2,#T_3545ef00_0a35_11eb_92bd_0242ac1c0002row4_col6,#T_3545ef00_0a35_11eb_92bd_0242ac1c0002row4_col8,#T_3545ef00_0a35_11eb_92bd_0242ac1c0002row6_col4{\n",
              "            background-color:  #fff7fb;\n",
              "            color:  #000000;\n",
              "        }#T_3545ef00_0a35_11eb_92bd_0242ac1c0002row0_col2{\n",
              "            background-color:  #d2d2e7;\n",
              "            color:  #000000;\n",
              "        }#T_3545ef00_0a35_11eb_92bd_0242ac1c0002row0_col3{\n",
              "            background-color:  #b5c4df;\n",
              "            color:  #000000;\n",
              "        }#T_3545ef00_0a35_11eb_92bd_0242ac1c0002row0_col4{\n",
              "            background-color:  #f5eef6;\n",
              "            color:  #000000;\n",
              "        }#T_3545ef00_0a35_11eb_92bd_0242ac1c0002row0_col5{\n",
              "            background-color:  #e9e5f1;\n",
              "            color:  #000000;\n",
              "        }#T_3545ef00_0a35_11eb_92bd_0242ac1c0002row0_col6,#T_3545ef00_0a35_11eb_92bd_0242ac1c0002row8_col3{\n",
              "            background-color:  #d1d2e6;\n",
              "            color:  #000000;\n",
              "        }#T_3545ef00_0a35_11eb_92bd_0242ac1c0002row0_col7,#T_3545ef00_0a35_11eb_92bd_0242ac1c0002row1_col7{\n",
              "            background-color:  #e1dfed;\n",
              "            color:  #000000;\n",
              "        }#T_3545ef00_0a35_11eb_92bd_0242ac1c0002row0_col8,#T_3545ef00_0a35_11eb_92bd_0242ac1c0002row3_col6{\n",
              "            background-color:  #dedcec;\n",
              "            color:  #000000;\n",
              "        }#T_3545ef00_0a35_11eb_92bd_0242ac1c0002row1_col2{\n",
              "            background-color:  #e0dded;\n",
              "            color:  #000000;\n",
              "        }#T_3545ef00_0a35_11eb_92bd_0242ac1c0002row1_col4,#T_3545ef00_0a35_11eb_92bd_0242ac1c0002row4_col1{\n",
              "            background-color:  #97b7d7;\n",
              "            color:  #000000;\n",
              "        }#T_3545ef00_0a35_11eb_92bd_0242ac1c0002row1_col5,#T_3545ef00_0a35_11eb_92bd_0242ac1c0002row2_col4{\n",
              "            background-color:  #f3edf5;\n",
              "            color:  #000000;\n",
              "        }#T_3545ef00_0a35_11eb_92bd_0242ac1c0002row1_col6,#T_3545ef00_0a35_11eb_92bd_0242ac1c0002row6_col1{\n",
              "            background-color:  #b8c6e0;\n",
              "            color:  #000000;\n",
              "        }#T_3545ef00_0a35_11eb_92bd_0242ac1c0002row1_col8{\n",
              "            background-color:  #e2dfee;\n",
              "            color:  #000000;\n",
              "        }#T_3545ef00_0a35_11eb_92bd_0242ac1c0002row2_col0,#T_3545ef00_0a35_11eb_92bd_0242ac1c0002row5_col0,#T_3545ef00_0a35_11eb_92bd_0242ac1c0002row5_col3{\n",
              "            background-color:  #bdc8e1;\n",
              "            color:  #000000;\n",
              "        }#T_3545ef00_0a35_11eb_92bd_0242ac1c0002row2_col1,#T_3545ef00_0a35_11eb_92bd_0242ac1c0002row6_col0,#T_3545ef00_0a35_11eb_92bd_0242ac1c0002row7_col0,#T_3545ef00_0a35_11eb_92bd_0242ac1c0002row7_col1{\n",
              "            background-color:  #d0d1e6;\n",
              "            color:  #000000;\n",
              "        }#T_3545ef00_0a35_11eb_92bd_0242ac1c0002row2_col3{\n",
              "            background-color:  #fbf3f9;\n",
              "            color:  #000000;\n",
              "        }#T_3545ef00_0a35_11eb_92bd_0242ac1c0002row2_col6{\n",
              "            background-color:  #80aed2;\n",
              "            color:  #000000;\n",
              "        }#T_3545ef00_0a35_11eb_92bd_0242ac1c0002row2_col8{\n",
              "            background-color:  #529bc7;\n",
              "            color:  #000000;\n",
              "        }#T_3545ef00_0a35_11eb_92bd_0242ac1c0002row3_col0,#T_3545ef00_0a35_11eb_92bd_0242ac1c0002row7_col3{\n",
              "            background-color:  #a7bddb;\n",
              "            color:  #000000;\n",
              "        }#T_3545ef00_0a35_11eb_92bd_0242ac1c0002row3_col1{\n",
              "            background-color:  #f5eff6;\n",
              "            color:  #000000;\n",
              "        }#T_3545ef00_0a35_11eb_92bd_0242ac1c0002row3_col2,#T_3545ef00_0a35_11eb_92bd_0242ac1c0002row7_col2{\n",
              "            background-color:  #fef6fa;\n",
              "            color:  #000000;\n",
              "        }#T_3545ef00_0a35_11eb_92bd_0242ac1c0002row3_col4{\n",
              "            background-color:  #c4cbe3;\n",
              "            color:  #000000;\n",
              "        }#T_3545ef00_0a35_11eb_92bd_0242ac1c0002row3_col5,#T_3545ef00_0a35_11eb_92bd_0242ac1c0002row5_col7{\n",
              "            background-color:  #dcdaeb;\n",
              "            color:  #000000;\n",
              "        }#T_3545ef00_0a35_11eb_92bd_0242ac1c0002row3_col7{\n",
              "            background-color:  #adc1dd;\n",
              "            color:  #000000;\n",
              "        }#T_3545ef00_0a35_11eb_92bd_0242ac1c0002row3_col8,#T_3545ef00_0a35_11eb_92bd_0242ac1c0002row4_col7{\n",
              "            background-color:  #d9d8ea;\n",
              "            color:  #000000;\n",
              "        }#T_3545ef00_0a35_11eb_92bd_0242ac1c0002row4_col0{\n",
              "            background-color:  #f4eef6;\n",
              "            color:  #000000;\n",
              "        }#T_3545ef00_0a35_11eb_92bd_0242ac1c0002row4_col3{\n",
              "            background-color:  #d2d3e7;\n",
              "            color:  #000000;\n",
              "        }#T_3545ef00_0a35_11eb_92bd_0242ac1c0002row4_col5{\n",
              "            background-color:  #fdf5fa;\n",
              "            color:  #000000;\n",
              "        }#T_3545ef00_0a35_11eb_92bd_0242ac1c0002row5_col1{\n",
              "            background-color:  #ced0e6;\n",
              "            color:  #000000;\n",
              "        }#T_3545ef00_0a35_11eb_92bd_0242ac1c0002row5_col2{\n",
              "            background-color:  #ede8f3;\n",
              "            color:  #000000;\n",
              "        }#T_3545ef00_0a35_11eb_92bd_0242ac1c0002row5_col4,#T_3545ef00_0a35_11eb_92bd_0242ac1c0002row6_col7{\n",
              "            background-color:  #dbdaeb;\n",
              "            color:  #000000;\n",
              "        }#T_3545ef00_0a35_11eb_92bd_0242ac1c0002row5_col6{\n",
              "            background-color:  #c0c9e2;\n",
              "            color:  #000000;\n",
              "        }#T_3545ef00_0a35_11eb_92bd_0242ac1c0002row5_col8{\n",
              "            background-color:  #e8e4f0;\n",
              "            color:  #000000;\n",
              "        }#T_3545ef00_0a35_11eb_92bd_0242ac1c0002row6_col2{\n",
              "            background-color:  #93b5d6;\n",
              "            color:  #000000;\n",
              "        }#T_3545ef00_0a35_11eb_92bd_0242ac1c0002row6_col3,#T_3545ef00_0a35_11eb_92bd_0242ac1c0002row6_col5{\n",
              "            background-color:  #eae6f1;\n",
              "            color:  #000000;\n",
              "        }#T_3545ef00_0a35_11eb_92bd_0242ac1c0002row6_col8{\n",
              "            background-color:  #bfc9e1;\n",
              "            color:  #000000;\n",
              "        }#T_3545ef00_0a35_11eb_92bd_0242ac1c0002row7_col4{\n",
              "            background-color:  #c5cce3;\n",
              "            color:  #000000;\n",
              "        }#T_3545ef00_0a35_11eb_92bd_0242ac1c0002row7_col5{\n",
              "            background-color:  #f0eaf4;\n",
              "            color:  #000000;\n",
              "        }#T_3545ef00_0a35_11eb_92bd_0242ac1c0002row7_col6{\n",
              "            background-color:  #c8cde4;\n",
              "            color:  #000000;\n",
              "        }#T_3545ef00_0a35_11eb_92bd_0242ac1c0002row7_col8{\n",
              "            background-color:  #d6d6e9;\n",
              "            color:  #000000;\n",
              "        }#T_3545ef00_0a35_11eb_92bd_0242ac1c0002row8_col0{\n",
              "            background-color:  #c6cce3;\n",
              "            color:  #000000;\n",
              "        }#T_3545ef00_0a35_11eb_92bd_0242ac1c0002row8_col1{\n",
              "            background-color:  #cdd0e5;\n",
              "            color:  #000000;\n",
              "        }#T_3545ef00_0a35_11eb_92bd_0242ac1c0002row8_col2{\n",
              "            background-color:  #4c99c5;\n",
              "            color:  #000000;\n",
              "        }#T_3545ef00_0a35_11eb_92bd_0242ac1c0002row8_col4{\n",
              "            background-color:  #efe9f3;\n",
              "            color:  #000000;\n",
              "        }#T_3545ef00_0a35_11eb_92bd_0242ac1c0002row8_col5{\n",
              "            background-color:  #f7f0f7;\n",
              "            color:  #000000;\n",
              "        }#T_3545ef00_0a35_11eb_92bd_0242ac1c0002row8_col6{\n",
              "            background-color:  #a5bddb;\n",
              "            color:  #000000;\n",
              "        }#T_3545ef00_0a35_11eb_92bd_0242ac1c0002row8_col7{\n",
              "            background-color:  #d3d4e7;\n",
              "            color:  #000000;\n",
              "        }</style><table id=\"T_3545ef00_0a35_11eb_92bd_0242ac1c0002\" ><thead>    <tr>        <th class=\"blank level0\" ></th>        <th class=\"col_heading level0 col0\" >track_id</th>        <th class=\"col_heading level0 col1\" >acousticness</th>        <th class=\"col_heading level0 col2\" >danceability</th>        <th class=\"col_heading level0 col3\" >energy</th>        <th class=\"col_heading level0 col4\" >instrumentalness</th>        <th class=\"col_heading level0 col5\" >liveness</th>        <th class=\"col_heading level0 col6\" >speechiness</th>        <th class=\"col_heading level0 col7\" >tempo</th>        <th class=\"col_heading level0 col8\" >valence</th>    </tr></thead><tbody>\n",
              "                <tr>\n",
              "                        <th id=\"T_3545ef00_0a35_11eb_92bd_0242ac1c0002level0_row0\" class=\"row_heading level0 row0\" >track_id</th>\n",
              "                        <td id=\"T_3545ef00_0a35_11eb_92bd_0242ac1c0002row0_col0\" class=\"data row0 col0\" >1.000000</td>\n",
              "                        <td id=\"T_3545ef00_0a35_11eb_92bd_0242ac1c0002row0_col1\" class=\"data row0 col1\" >-0.372282</td>\n",
              "                        <td id=\"T_3545ef00_0a35_11eb_92bd_0242ac1c0002row0_col2\" class=\"data row0 col2\" >0.049454</td>\n",
              "                        <td id=\"T_3545ef00_0a35_11eb_92bd_0242ac1c0002row0_col3\" class=\"data row0 col3\" >0.140703</td>\n",
              "                        <td id=\"T_3545ef00_0a35_11eb_92bd_0242ac1c0002row0_col4\" class=\"data row0 col4\" >-0.275623</td>\n",
              "                        <td id=\"T_3545ef00_0a35_11eb_92bd_0242ac1c0002row0_col5\" class=\"data row0 col5\" >0.048231</td>\n",
              "                        <td id=\"T_3545ef00_0a35_11eb_92bd_0242ac1c0002row0_col6\" class=\"data row0 col6\" >-0.026995</td>\n",
              "                        <td id=\"T_3545ef00_0a35_11eb_92bd_0242ac1c0002row0_col7\" class=\"data row0 col7\" >-0.025392</td>\n",
              "                        <td id=\"T_3545ef00_0a35_11eb_92bd_0242ac1c0002row0_col8\" class=\"data row0 col8\" >0.010070</td>\n",
              "            </tr>\n",
              "            <tr>\n",
              "                        <th id=\"T_3545ef00_0a35_11eb_92bd_0242ac1c0002level0_row1\" class=\"row_heading level0 row1\" >acousticness</th>\n",
              "                        <td id=\"T_3545ef00_0a35_11eb_92bd_0242ac1c0002row1_col0\" class=\"data row1 col0\" >-0.372282</td>\n",
              "                        <td id=\"T_3545ef00_0a35_11eb_92bd_0242ac1c0002row1_col1\" class=\"data row1 col1\" >1.000000</td>\n",
              "                        <td id=\"T_3545ef00_0a35_11eb_92bd_0242ac1c0002row1_col2\" class=\"data row1 col2\" >-0.028954</td>\n",
              "                        <td id=\"T_3545ef00_0a35_11eb_92bd_0242ac1c0002row1_col3\" class=\"data row1 col3\" >-0.281619</td>\n",
              "                        <td id=\"T_3545ef00_0a35_11eb_92bd_0242ac1c0002row1_col4\" class=\"data row1 col4\" >0.194780</td>\n",
              "                        <td id=\"T_3545ef00_0a35_11eb_92bd_0242ac1c0002row1_col5\" class=\"data row1 col5\" >-0.019991</td>\n",
              "                        <td id=\"T_3545ef00_0a35_11eb_92bd_0242ac1c0002row1_col6\" class=\"data row1 col6\" >0.072204</td>\n",
              "                        <td id=\"T_3545ef00_0a35_11eb_92bd_0242ac1c0002row1_col7\" class=\"data row1 col7\" >-0.026310</td>\n",
              "                        <td id=\"T_3545ef00_0a35_11eb_92bd_0242ac1c0002row1_col8\" class=\"data row1 col8\" >-0.013841</td>\n",
              "            </tr>\n",
              "            <tr>\n",
              "                        <th id=\"T_3545ef00_0a35_11eb_92bd_0242ac1c0002level0_row2\" class=\"row_heading level0 row2\" >danceability</th>\n",
              "                        <td id=\"T_3545ef00_0a35_11eb_92bd_0242ac1c0002row2_col0\" class=\"data row2 col0\" >0.049454</td>\n",
              "                        <td id=\"T_3545ef00_0a35_11eb_92bd_0242ac1c0002row2_col1\" class=\"data row2 col1\" >-0.028954</td>\n",
              "                        <td id=\"T_3545ef00_0a35_11eb_92bd_0242ac1c0002row2_col2\" class=\"data row2 col2\" >1.000000</td>\n",
              "                        <td id=\"T_3545ef00_0a35_11eb_92bd_0242ac1c0002row2_col3\" class=\"data row2 col3\" >-0.242032</td>\n",
              "                        <td id=\"T_3545ef00_0a35_11eb_92bd_0242ac1c0002row2_col4\" class=\"data row2 col4\" >-0.255217</td>\n",
              "                        <td id=\"T_3545ef00_0a35_11eb_92bd_0242ac1c0002row2_col5\" class=\"data row2 col5\" >-0.106584</td>\n",
              "                        <td id=\"T_3545ef00_0a35_11eb_92bd_0242ac1c0002row2_col6\" class=\"data row2 col6\" >0.276206</td>\n",
              "                        <td id=\"T_3545ef00_0a35_11eb_92bd_0242ac1c0002row2_col7\" class=\"data row2 col7\" >-0.242089</td>\n",
              "                        <td id=\"T_3545ef00_0a35_11eb_92bd_0242ac1c0002row2_col8\" class=\"data row2 col8\" >0.473165</td>\n",
              "            </tr>\n",
              "            <tr>\n",
              "                        <th id=\"T_3545ef00_0a35_11eb_92bd_0242ac1c0002level0_row3\" class=\"row_heading level0 row3\" >energy</th>\n",
              "                        <td id=\"T_3545ef00_0a35_11eb_92bd_0242ac1c0002row3_col0\" class=\"data row3 col0\" >0.140703</td>\n",
              "                        <td id=\"T_3545ef00_0a35_11eb_92bd_0242ac1c0002row3_col1\" class=\"data row3 col1\" >-0.281619</td>\n",
              "                        <td id=\"T_3545ef00_0a35_11eb_92bd_0242ac1c0002row3_col2\" class=\"data row3 col2\" >-0.242032</td>\n",
              "                        <td id=\"T_3545ef00_0a35_11eb_92bd_0242ac1c0002row3_col3\" class=\"data row3 col3\" >1.000000</td>\n",
              "                        <td id=\"T_3545ef00_0a35_11eb_92bd_0242ac1c0002row3_col4\" class=\"data row3 col4\" >0.028238</td>\n",
              "                        <td id=\"T_3545ef00_0a35_11eb_92bd_0242ac1c0002row3_col5\" class=\"data row3 col5\" >0.113331</td>\n",
              "                        <td id=\"T_3545ef00_0a35_11eb_92bd_0242ac1c0002row3_col6\" class=\"data row3 col6\" >-0.109983</td>\n",
              "                        <td id=\"T_3545ef00_0a35_11eb_92bd_0242ac1c0002row3_col7\" class=\"data row3 col7\" >0.195227</td>\n",
              "                        <td id=\"T_3545ef00_0a35_11eb_92bd_0242ac1c0002row3_col8\" class=\"data row3 col8\" >0.038603</td>\n",
              "            </tr>\n",
              "            <tr>\n",
              "                        <th id=\"T_3545ef00_0a35_11eb_92bd_0242ac1c0002level0_row4\" class=\"row_heading level0 row4\" >instrumentalness</th>\n",
              "                        <td id=\"T_3545ef00_0a35_11eb_92bd_0242ac1c0002row4_col0\" class=\"data row4 col0\" >-0.275623</td>\n",
              "                        <td id=\"T_3545ef00_0a35_11eb_92bd_0242ac1c0002row4_col1\" class=\"data row4 col1\" >0.194780</td>\n",
              "                        <td id=\"T_3545ef00_0a35_11eb_92bd_0242ac1c0002row4_col2\" class=\"data row4 col2\" >-0.255217</td>\n",
              "                        <td id=\"T_3545ef00_0a35_11eb_92bd_0242ac1c0002row4_col3\" class=\"data row4 col3\" >0.028238</td>\n",
              "                        <td id=\"T_3545ef00_0a35_11eb_92bd_0242ac1c0002row4_col4\" class=\"data row4 col4\" >1.000000</td>\n",
              "                        <td id=\"T_3545ef00_0a35_11eb_92bd_0242ac1c0002row4_col5\" class=\"data row4 col5\" >-0.091022</td>\n",
              "                        <td id=\"T_3545ef00_0a35_11eb_92bd_0242ac1c0002row4_col6\" class=\"data row4 col6\" >-0.366762</td>\n",
              "                        <td id=\"T_3545ef00_0a35_11eb_92bd_0242ac1c0002row4_col7\" class=\"data row4 col7\" >0.022215</td>\n",
              "                        <td id=\"T_3545ef00_0a35_11eb_92bd_0242ac1c0002row4_col8\" class=\"data row4 col8\" >-0.219967</td>\n",
              "            </tr>\n",
              "            <tr>\n",
              "                        <th id=\"T_3545ef00_0a35_11eb_92bd_0242ac1c0002level0_row5\" class=\"row_heading level0 row5\" >liveness</th>\n",
              "                        <td id=\"T_3545ef00_0a35_11eb_92bd_0242ac1c0002row5_col0\" class=\"data row5 col0\" >0.048231</td>\n",
              "                        <td id=\"T_3545ef00_0a35_11eb_92bd_0242ac1c0002row5_col1\" class=\"data row5 col1\" >-0.019991</td>\n",
              "                        <td id=\"T_3545ef00_0a35_11eb_92bd_0242ac1c0002row5_col2\" class=\"data row5 col2\" >-0.106584</td>\n",
              "                        <td id=\"T_3545ef00_0a35_11eb_92bd_0242ac1c0002row5_col3\" class=\"data row5 col3\" >0.113331</td>\n",
              "                        <td id=\"T_3545ef00_0a35_11eb_92bd_0242ac1c0002row5_col4\" class=\"data row5 col4\" >-0.091022</td>\n",
              "                        <td id=\"T_3545ef00_0a35_11eb_92bd_0242ac1c0002row5_col5\" class=\"data row5 col5\" >1.000000</td>\n",
              "                        <td id=\"T_3545ef00_0a35_11eb_92bd_0242ac1c0002row5_col6\" class=\"data row5 col6\" >0.041173</td>\n",
              "                        <td id=\"T_3545ef00_0a35_11eb_92bd_0242ac1c0002row5_col7\" class=\"data row5 col7\" >0.002732</td>\n",
              "                        <td id=\"T_3545ef00_0a35_11eb_92bd_0242ac1c0002row5_col8\" class=\"data row5 col8\" >-0.045093</td>\n",
              "            </tr>\n",
              "            <tr>\n",
              "                        <th id=\"T_3545ef00_0a35_11eb_92bd_0242ac1c0002level0_row6\" class=\"row_heading level0 row6\" >speechiness</th>\n",
              "                        <td id=\"T_3545ef00_0a35_11eb_92bd_0242ac1c0002row6_col0\" class=\"data row6 col0\" >-0.026995</td>\n",
              "                        <td id=\"T_3545ef00_0a35_11eb_92bd_0242ac1c0002row6_col1\" class=\"data row6 col1\" >0.072204</td>\n",
              "                        <td id=\"T_3545ef00_0a35_11eb_92bd_0242ac1c0002row6_col2\" class=\"data row6 col2\" >0.276206</td>\n",
              "                        <td id=\"T_3545ef00_0a35_11eb_92bd_0242ac1c0002row6_col3\" class=\"data row6 col3\" >-0.109983</td>\n",
              "                        <td id=\"T_3545ef00_0a35_11eb_92bd_0242ac1c0002row6_col4\" class=\"data row6 col4\" >-0.366762</td>\n",
              "                        <td id=\"T_3545ef00_0a35_11eb_92bd_0242ac1c0002row6_col5\" class=\"data row6 col5\" >0.041173</td>\n",
              "                        <td id=\"T_3545ef00_0a35_11eb_92bd_0242ac1c0002row6_col6\" class=\"data row6 col6\" >1.000000</td>\n",
              "                        <td id=\"T_3545ef00_0a35_11eb_92bd_0242ac1c0002row6_col7\" class=\"data row6 col7\" >0.008241</td>\n",
              "                        <td id=\"T_3545ef00_0a35_11eb_92bd_0242ac1c0002row6_col8\" class=\"data row6 col8\" >0.149894</td>\n",
              "            </tr>\n",
              "            <tr>\n",
              "                        <th id=\"T_3545ef00_0a35_11eb_92bd_0242ac1c0002level0_row7\" class=\"row_heading level0 row7\" >tempo</th>\n",
              "                        <td id=\"T_3545ef00_0a35_11eb_92bd_0242ac1c0002row7_col0\" class=\"data row7 col0\" >-0.025392</td>\n",
              "                        <td id=\"T_3545ef00_0a35_11eb_92bd_0242ac1c0002row7_col1\" class=\"data row7 col1\" >-0.026310</td>\n",
              "                        <td id=\"T_3545ef00_0a35_11eb_92bd_0242ac1c0002row7_col2\" class=\"data row7 col2\" >-0.242089</td>\n",
              "                        <td id=\"T_3545ef00_0a35_11eb_92bd_0242ac1c0002row7_col3\" class=\"data row7 col3\" >0.195227</td>\n",
              "                        <td id=\"T_3545ef00_0a35_11eb_92bd_0242ac1c0002row7_col4\" class=\"data row7 col4\" >0.022215</td>\n",
              "                        <td id=\"T_3545ef00_0a35_11eb_92bd_0242ac1c0002row7_col5\" class=\"data row7 col5\" >0.002732</td>\n",
              "                        <td id=\"T_3545ef00_0a35_11eb_92bd_0242ac1c0002row7_col6\" class=\"data row7 col6\" >0.008241</td>\n",
              "                        <td id=\"T_3545ef00_0a35_11eb_92bd_0242ac1c0002row7_col7\" class=\"data row7 col7\" >1.000000</td>\n",
              "                        <td id=\"T_3545ef00_0a35_11eb_92bd_0242ac1c0002row7_col8\" class=\"data row7 col8\" >0.052221</td>\n",
              "            </tr>\n",
              "            <tr>\n",
              "                        <th id=\"T_3545ef00_0a35_11eb_92bd_0242ac1c0002level0_row8\" class=\"row_heading level0 row8\" >valence</th>\n",
              "                        <td id=\"T_3545ef00_0a35_11eb_92bd_0242ac1c0002row8_col0\" class=\"data row8 col0\" >0.010070</td>\n",
              "                        <td id=\"T_3545ef00_0a35_11eb_92bd_0242ac1c0002row8_col1\" class=\"data row8 col1\" >-0.013841</td>\n",
              "                        <td id=\"T_3545ef00_0a35_11eb_92bd_0242ac1c0002row8_col2\" class=\"data row8 col2\" >0.473165</td>\n",
              "                        <td id=\"T_3545ef00_0a35_11eb_92bd_0242ac1c0002row8_col3\" class=\"data row8 col3\" >0.038603</td>\n",
              "                        <td id=\"T_3545ef00_0a35_11eb_92bd_0242ac1c0002row8_col4\" class=\"data row8 col4\" >-0.219967</td>\n",
              "                        <td id=\"T_3545ef00_0a35_11eb_92bd_0242ac1c0002row8_col5\" class=\"data row8 col5\" >-0.045093</td>\n",
              "                        <td id=\"T_3545ef00_0a35_11eb_92bd_0242ac1c0002row8_col6\" class=\"data row8 col6\" >0.149894</td>\n",
              "                        <td id=\"T_3545ef00_0a35_11eb_92bd_0242ac1c0002row8_col7\" class=\"data row8 col7\" >0.052221</td>\n",
              "                        <td id=\"T_3545ef00_0a35_11eb_92bd_0242ac1c0002row8_col8\" class=\"data row8 col8\" >1.000000</td>\n",
              "            </tr>\n",
              "    </tbody></table>"
            ],
            "text/plain": [
              "<pandas.io.formats.style.Styler at 0x7fdec63c3ba8>"
            ]
          },
          "metadata": {
            "tags": []
          },
          "execution_count": 29
        }
      ]
    },
    {
      "cell_type": "code",
      "metadata": {
        "id": "RAhg7sgYiBqz"
      },
      "source": [
        "pca = PCA()\n",
        "x = df3.drop(['genre_top','track_id'],axis=1)\n",
        "y = df3['genre_top']\n"
      ],
      "execution_count": null,
      "outputs": []
    },
    {
      "cell_type": "code",
      "metadata": {
        "id": "aXOD3QRCihss"
      },
      "source": [
        "scaler = preprocessing.StandardScaler()\n",
        "scaled_x=scaler.fit(x).transform(x)\n",
        "\n"
      ],
      "execution_count": null,
      "outputs": []
    },
    {
      "cell_type": "code",
      "metadata": {
        "id": "OlQIQ5agkF6R"
      },
      "source": [
        "pca = PCA()\n",
        "pca.fit(scaled_x)\n",
        "exp_variance = pca.explained_variance_ratio_"
      ],
      "execution_count": null,
      "outputs": []
    },
    {
      "cell_type": "code",
      "metadata": {
        "id": "NFUBwlImkdN0",
        "outputId": "c8b3dc1c-2d86-4af9-a5f1-c89608d99f3c",
        "colab": {
          "base_uri": "https://localhost:8080/",
          "height": 282
        }
      },
      "source": [
        "fig,ax = plt.subplots()\n",
        "ax.bar(range(pca.n_components_),exp_variance)"
      ],
      "execution_count": null,
      "outputs": [
        {
          "output_type": "execute_result",
          "data": {
            "text/plain": [
              "<BarContainer object of 8 artists>"
            ]
          },
          "metadata": {
            "tags": []
          },
          "execution_count": 38
        },
        {
          "output_type": "display_data",
          "data": {
            "image/png": "[encoded data removed]",
            "text/plain": [
              "<Figure size 432x288 with 1 Axes>"
            ]
          },
          "metadata": {
            "tags": [],
            "needs_background": "light"
          }
        }
      ]
    },
    {
      "cell_type": "code",
      "metadata": {
        "id": "2KXbdhjhlBP-",
        "outputId": "f9d7fa93-3198-48ce-df08-11cabf6b9a7c",
        "colab": {
          "base_uri": "https://localhost:8080/",
          "height": 282
        }
      },
      "source": [
        "cum_exp_variance = np.cumsum(exp_variance)\n",
        "fig,ax = plt.subplots()\n",
        "ax.plot(cum_exp_variance)\n",
        "ax.axhline(y=0.85,linestyle = '--')"
      ],
      "execution_count": null,
      "outputs": [
        {
          "output_type": "execute_result",
          "data": {
            "text/plain": [
              "<matplotlib.lines.Line2D at 0x7fdec2c87cf8>"
            ]
          },
          "metadata": {
            "tags": []
          },
          "execution_count": 40
        },
        {
          "output_type": "display_data",
          "data": {
            "image/png": "[encoded data removed]",
            "text/plain": [
              "<Figure size 432x288 with 1 Axes>"
            ]
          },
          "metadata": {
            "tags": [],
            "needs_background": "light"
          }
        }
      ]
    },
    {
      "cell_type": "code",
      "metadata": {
        "id": "mwbB5UdfpsQH"
      },
      "source": [
        "n_components = 6\n",
        "pca = PCA(n_components= 6,random_state =10)\n",
        "pca.fit(scaled_x)\n",
        "pca_x= pca.transform(scaled_x)"
      ],
      "execution_count": null,
      "outputs": []
    },
    {
      "cell_type": "code",
      "metadata": {
        "id": "oAVprtTCqoAy"
      },
      "source": [
        "x_train,x_test,y_train,y_test = train_test_split(pca_x,y,test_size =0.2,random_state = 150)\n"
      ],
      "execution_count": null,
      "outputs": []
    },
    {
      "cell_type": "code",
      "metadata": {
        "id": "Bg_TOdwfrIa0",
        "outputId": "90b6fbac-b10e-4c1b-85a8-3141c4b09c06",
        "colab": {
          "base_uri": "https://localhost:8080/",
          "height": 340
        }
      },
      "source": [
        "tree = DecisionTreeClassifier(criterion='entropy',max_depth = 4)\n",
        "tree.fit(x_train,y_train)\n",
        "y_hat = tree.predict(x_test)\n",
        "\n",
        "y_probe = tree.predict_proba(x_test)\n",
        "print('classification_report tree:',classification_report(y_hat,y_test))\n",
        "print('classification_report',classification_report(y_hat,y_test))\n",
        "\n",
        "accuracy_score(y_hat,y_test),log_loss(y_test,y_probe)"
      ],
      "execution_count": null,
      "outputs": [
        {
          "output_type": "stream",
          "text": [
            "classification_report tree:               precision    recall  f1-score   support\n",
            "\n",
            "     Hip-Hop       0.58      0.72      0.64       146\n",
            "        Rock       0.95      0.91      0.93       815\n",
            "\n",
            "    accuracy                           0.88       961\n",
            "   macro avg       0.76      0.81      0.78       961\n",
            "weighted avg       0.89      0.88      0.88       961\n",
            "\n",
            "classification_report               precision    recall  f1-score   support\n",
            "\n",
            "     Hip-Hop       0.58      0.72      0.64       146\n",
            "        Rock       0.95      0.91      0.93       815\n",
            "\n",
            "    accuracy                           0.88       961\n",
            "   macro avg       0.76      0.81      0.78       961\n",
            "weighted avg       0.89      0.88      0.88       961\n",
            "\n"
          ],
          "name": "stdout"
        },
        {
          "output_type": "execute_result",
          "data": {
            "text/plain": [
              "(0.8782518210197711, 0.3390187990852613)"
            ]
          },
          "metadata": {
            "tags": []
          },
          "execution_count": 50
        }
      ]
    },
    {
      "cell_type": "code",
      "metadata": {
        "id": "mRnnhaSW2MvJ",
        "outputId": "832860f5-0ca4-46ce-8a8b-b4a8ce07b29e",
        "colab": {
          "base_uri": "https://localhost:8080/",
          "height": 340
        }
      },
      "source": [
        "lre = LogisticRegression(C=0.01,solver= 'sag')\n",
        "lre.fit(x_train,y_train)\n",
        "y_hatr = lre.predict(x_test)\n",
        "y_prober = lre.predict_proba(x_test)\n",
        "\n",
        "print('classification_report tree:',classification_report(y_hatr,y_test))\n",
        "print('classification_report',classification_report(y_hatr,y_test))\n",
        "\n",
        "accuracy_score(y_hat,y_test),log_loss(y_test,y_prober)\n"
      ],
      "execution_count": null,
      "outputs": [
        {
          "output_type": "stream",
          "text": [
            "classification_report tree:               precision    recall  f1-score   support\n",
            "\n",
            "     Hip-Hop       0.45      0.82      0.58       100\n",
            "        Rock       0.98      0.89      0.93       861\n",
            "\n",
            "    accuracy                           0.88       961\n",
            "   macro avg       0.71      0.85      0.76       961\n",
            "weighted avg       0.92      0.88      0.89       961\n",
            "\n",
            "classification_report               precision    recall  f1-score   support\n",
            "\n",
            "     Hip-Hop       0.45      0.82      0.58       100\n",
            "        Rock       0.98      0.89      0.93       861\n",
            "\n",
            "    accuracy                           0.88       961\n",
            "   macro avg       0.71      0.85      0.76       961\n",
            "weighted avg       0.92      0.88      0.89       961\n",
            "\n"
          ],
          "name": "stdout"
        },
        {
          "output_type": "execute_result",
          "data": {
            "text/plain": [
              "(0.8782518210197711, 0.32094109555345235)"
            ]
          },
          "metadata": {
            "tags": []
          },
          "execution_count": 52
        }
      ]
    },
    {
      "cell_type": "code",
      "metadata": {
        "id": "QBCK-mwh292v"
      },
      "source": [
        "hop_only = df3.loc[df3['genre_top']=='Hip-Hop']\n",
        "rock_only = df3.loc[df3['genre_top']=='Rock']\n",
        "rock_only = rock_only.sample(hop_only.shape[0],random_state = 0)\n",
        "balanced = pd.concat([hop_only,rock_only])\n",
        "x = balanced.drop(['genre_top','track_id'],axis=1)"
      ],
      "execution_count": null,
      "outputs": []
    },
    {
      "cell_type": "code",
      "metadata": {
        "id": "VxRlKuHj3vVE"
      },
      "source": [
        "y = balanced['genre_top']"
      ],
      "execution_count": null,
      "outputs": []
    },
    {
      "cell_type": "code",
      "metadata": {
        "id": "X24tvx-24Yk3"
      },
      "source": [
        "pca_x = pca.fit_transform(scaler.fit(x).transform(x))"
      ],
      "execution_count": null,
      "outputs": []
    },
    {
      "cell_type": "code",
      "metadata": {
        "id": "Z_4_EDox4lzh",
        "outputId": "04b77624-79fe-4b85-cd4e-93f8d97c2fbc",
        "colab": {
          "base_uri": "https://localhost:8080/",
          "height": 340
        }
      },
      "source": [
        "tree = DecisionTreeClassifier(criterion='entropy',max_depth = 4)\n",
        "tree.fit(x_train,y_train)\n",
        "y_hat = tree.predict(x_test)\n",
        "\n",
        "y_probe = tree.predict_proba(x_test)\n",
        "print('classification_report tree:',classification_report(y_hat,y_test))\n",
        "print('classification_report',classification_report(y_hat,y_test))\n",
        "\n",
        "accuracy_score(y_hat,y_test),log_loss(y_test,y_probe)"
      ],
      "execution_count": null,
      "outputs": [
        {
          "output_type": "stream",
          "text": [
            "classification_report tree:               precision    recall  f1-score   support\n",
            "\n",
            "     Hip-Hop       0.58      0.72      0.64       146\n",
            "        Rock       0.95      0.91      0.93       815\n",
            "\n",
            "    accuracy                           0.88       961\n",
            "   macro avg       0.76      0.81      0.78       961\n",
            "weighted avg       0.89      0.88      0.88       961\n",
            "\n",
            "classification_report               precision    recall  f1-score   support\n",
            "\n",
            "     Hip-Hop       0.58      0.72      0.64       146\n",
            "        Rock       0.95      0.91      0.93       815\n",
            "\n",
            "    accuracy                           0.88       961\n",
            "   macro avg       0.76      0.81      0.78       961\n",
            "weighted avg       0.89      0.88      0.88       961\n",
            "\n"
          ],
          "name": "stdout"
        },
        {
          "output_type": "execute_result",
          "data": {
            "text/plain": [
              "(0.8782518210197711, 0.3390187990852613)"
            ]
          },
          "metadata": {
            "tags": []
          },
          "execution_count": 61
        }
      ]
    },
    {
      "cell_type": "code",
      "metadata": {
        "id": "xSQYhLOQ49u3",
        "outputId": "a14f6ff6-017f-4bb2-e8bb-cbc9a5f1861c",
        "colab": {
          "base_uri": "https://localhost:8080/",
          "height": 340
        }
      },
      "source": [
        "lre = LogisticRegression(C=0.01,solver= 'sag')\n",
        "lre.fit(x_train,y_train)\n",
        "y_hatr = lre.predict(x_test)\n",
        "y_prober = lre.predict_proba(x_test)\n",
        "\n",
        "print('classification_report tree:',classification_report(y_hatr,y_test))\n",
        "print('classification_report',classification_report(y_hatr,y_test))\n",
        "\n",
        "accuracy_score(y_hat,y_test),log_loss(y_test,y_prober)"
      ],
      "execution_count": null,
      "outputs": [
        {
          "output_type": "stream",
          "text": [
            "classification_report tree:               precision    recall  f1-score   support\n",
            "\n",
            "     Hip-Hop       0.45      0.82      0.58       100\n",
            "        Rock       0.98      0.89      0.93       861\n",
            "\n",
            "    accuracy                           0.88       961\n",
            "   macro avg       0.71      0.85      0.76       961\n",
            "weighted avg       0.92      0.88      0.89       961\n",
            "\n",
            "classification_report               precision    recall  f1-score   support\n",
            "\n",
            "     Hip-Hop       0.45      0.82      0.58       100\n",
            "        Rock       0.98      0.89      0.93       861\n",
            "\n",
            "    accuracy                           0.88       961\n",
            "   macro avg       0.71      0.85      0.76       961\n",
            "weighted avg       0.92      0.88      0.89       961\n",
            "\n"
          ],
          "name": "stdout"
        },
        {
          "output_type": "execute_result",
          "data": {
            "text/plain": [
              "(0.8782518210197711, 0.32094026029599004)"
            ]
          },
          "metadata": {
            "tags": []
          },
          "execution_count": 62
        }
      ]
    },
    {
      "cell_type": "code",
      "metadata": {
        "id": "B1sLqaaN5Rd3",
        "outputId": "19c1e606-0c3e-4132-9ee9-44072dc023d8",
        "colab": {
          "base_uri": "https://localhost:8080/",
          "height": 51
        }
      },
      "source": [
        "from sklearn.model_selection import cross_val_score,KFold\n",
        "kfold = KFold(10)\n",
        "tree = DecisionTreeClassifier(criterion='entropy',random_state =10)\n",
        "lre = LogisticRegression(C= 0.01,solver = 'sag')\n",
        "print('cross_val_score_tree',max(cross_val_score(tree,pca_x,y,scoring= 'accuracy',cv=kfold)))\n",
        "print('cross_val_sscore_regresssion',max(cross_val_score(lre,x,y,scoring='accuracy',cv=kfold)))"
      ],
      "execution_count": null,
      "outputs": [
        {
          "output_type": "stream",
          "text": [
            "cross_val_score_tree 0.7967032967032966\n",
            "cross_val_sscore_regresssion 0.8021978021978022\n"
          ],
          "name": "stdout"
        }
      ]
    },
    {
      "cell_type": "code",
      "metadata": {
        "id": "hLVQu0NJ6E14"
      },
      "source": [
        ""
      ],
      "execution_count": null,
      "outputs": []
    }
  ]
}